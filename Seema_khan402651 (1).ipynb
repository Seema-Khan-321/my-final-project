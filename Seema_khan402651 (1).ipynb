{
  "cells": [
    {
      "cell_type": "markdown",
      "source": [
        "Clinic patients data system"
      ],
      "metadata": {
        "id": "A0DCjWkm6Beq"
      }
    },
    {
      "cell_type": "code",
      "execution_count": null,
      "metadata": {
        "colab": {
          "background_save": true,
          "base_uri": "https://localhost:8080/"
        },
        "id": "sPdMYyKT6D11",
        "outputId": "2ac187e1-ab4d-4b6e-bad4-03a5d0dfee1e"
      },
      "outputs": [
        {
          "name": "stdout",
          "output_type": "stream",
          "text": [
            "No data file found. Starting with empty records.\n",
            "\n",
            "Clinic Patient Record System\n",
            "1. Register New Patient\n",
            "2. Search Patient\n",
            "3. Update Patient Status\n",
            "4. Save Records\n",
            "5. Exit\n"
          ]
        }
      ],
      "source": [
        "\n",
        "\n",
        "# Patient data will be stored in this list\n",
        "patients = []\n",
        "\n",
        "# Load patients from file\n",
        "def load_data():\n",
        "    try:\n",
        "        with open(\"patients.json\", \"r\") as file:\n",
        "            global patients\n",
        "            patients = json.load(file)\n",
        "            print(\"Data loaded successfully.\")\n",
        "    except FileNotFoundError:\n",
        "        print(\"No data file found. Starting with empty records.\")\n",
        "\n",
        "# Save patients to file\n",
        "def save_data():\n",
        "    with open(\"patients.json\", \"w\") as file:\n",
        "        json.dump(patients, file, indent=4)\n",
        "        print(\"Data saved successfully.\")\n",
        "\n",
        "# Register new patient\n",
        "def register_patient():\n",
        "    id = len(patients) + 1\n",
        "    name = input(\"Enter patient name: \")\n",
        "    age = input(\"Enter patient age: \")\n",
        "    symptoms = input(\"Enter symptoms: \")\n",
        "    status = \"under observation\"\n",
        "\n",
        "    patient = {\n",
        "        \"id\": id,\n",
        "        \"name\": name,\n",
        "        \"age\": age,\n",
        "        \"symptoms\": symptoms,\n",
        "        \"status\": status\n",
        "    }\n",
        "    patients.append(patient)\n",
        "    print(f\"Patient {name} registered successfully with ID {id}.\")\n",
        "\n",
        "# Search patient by ID or name\n",
        "def search_patient():\n",
        "    keyword = input(\"Enter patient ID or name to search: \")\n",
        "    found = False\n",
        "    for patient in patients:\n",
        "        if str(patient[\"id\"]) == keyword or patient[\"name\"].lower() == keyword.lower():\n",
        "            print(\"Patient found:\", patient)\n",
        "            found = True\n",
        "            break\n",
        "    if not found:\n",
        "        print(\"No matching patient found.\")\n",
        "\n",
        "# Mark patient status\n",
        "def update_status():\n",
        "    pid = input(\"Enter patient ID to update status: \")\n",
        "    for patient in patients:\n",
        "        if str(patient[\"id\"]) == pid:\n",
        "            new_status = input(\"Enter new status (treated/under observation): \").strip().lower()\n",
        "            if new_status in [\"treated\", \"under observation\"]:\n",
        "                patient[\"status\"] = new_status\n",
        "                print(\"Status updated successfully.\")\n",
        "            else:\n",
        "                print(\"Invalid status entered.\")\n",
        "            return\n",
        "    print(\"Patient ID not found.\")\n",
        "\n",
        "# Menu-driven system\n",
        "def menu():\n",
        "    load_data()\n",
        "    while True:\n",
        "        print(\"\\nClinic Patient Record System\")\n",
        "        print(\"1. Register New Patient\")\n",
        "        print(\"2. Search Patient\")\n",
        "        print(\"3. Update Patient Status\")\n",
        "        print(\"4. Save Records\")\n",
        "        print(\"5. Exit\")\n",
        "\n",
        "        choice = input(\"Enter choice: \")\n",
        "\n",
        "        if choice == \"1\":\n",
        "            register_patient()\n",
        "        elif choice == \"2\":\n",
        "            search_patient()\n",
        "        elif choice == \"3\":\n",
        "            update_status()\n",
        "        elif choice == \"4\":\n",
        "            save_data()\n",
        "        elif choice == \"5\":\n",
        "            save_data()\n",
        "            print(\"Exiting system. Goodbye!\")\n",
        "            break\n",
        "        else:\n",
        "            print(\"Invalid choice. Please try again.\")\n",
        "\n",
        "# Run the program\n",
        "menu()"
      ]
    }
  ],
  "metadata": {
    "colab": {
      "provenance": []
    },
    "kernelspec": {
      "display_name": "Python 3",
      "name": "python3"
    },
    "language_info": {
      "name": "python"
    }
  },
  "nbformat": 4,
  "nbformat_minor": 0
}